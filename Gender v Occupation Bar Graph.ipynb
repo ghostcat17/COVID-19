{
 "cells": [
  {
   "cell_type": "code",
   "execution_count": 37,
   "metadata": {},
   "outputs": [
    {
     "data": {
      "text/html": [
       "<div>\n",
       "<style scoped>\n",
       "    .dataframe tbody tr th:only-of-type {\n",
       "        vertical-align: middle;\n",
       "    }\n",
       "\n",
       "    .dataframe tbody tr th {\n",
       "        vertical-align: top;\n",
       "    }\n",
       "\n",
       "    .dataframe thead th {\n",
       "        text-align: right;\n",
       "    }\n",
       "</style>\n",
       "<table border=\"1\" class=\"dataframe\">\n",
       "  <thead>\n",
       "    <tr style=\"text-align: right;\">\n",
       "      <th></th>\n",
       "      <th>Occupation</th>\n",
       "      <th>UR Total 2019</th>\n",
       "      <th>UR Total 2020</th>\n",
       "      <th>UR of Men 2019</th>\n",
       "      <th>UR of Men 2020</th>\n",
       "      <th>UR of Women 2019</th>\n",
       "      <th>UR of Women 2020</th>\n",
       "    </tr>\n",
       "  </thead>\n",
       "  <tbody>\n",
       "    <tr>\n",
       "      <th>0</th>\n",
       "      <td>Management, professional, and related occupations</td>\n",
       "      <td>2.4</td>\n",
       "      <td>6.6</td>\n",
       "      <td>1.8</td>\n",
       "      <td>5.5</td>\n",
       "      <td>3.0</td>\n",
       "      <td>7.6</td>\n",
       "    </tr>\n",
       "    <tr>\n",
       "      <th>1</th>\n",
       "      <td>Service occupations</td>\n",
       "      <td>4.5</td>\n",
       "      <td>16.2</td>\n",
       "      <td>4.6</td>\n",
       "      <td>15.7</td>\n",
       "      <td>4.4</td>\n",
       "      <td>16.6</td>\n",
       "    </tr>\n",
       "    <tr>\n",
       "      <th>2</th>\n",
       "      <td>Sales and office occupations</td>\n",
       "      <td>3.6</td>\n",
       "      <td>10.3</td>\n",
       "      <td>3.1</td>\n",
       "      <td>9.4</td>\n",
       "      <td>4.0</td>\n",
       "      <td>10.9</td>\n",
       "    </tr>\n",
       "    <tr>\n",
       "      <th>3</th>\n",
       "      <td>Natural resources, construction, and maintenan...</td>\n",
       "      <td>4.2</td>\n",
       "      <td>9.2</td>\n",
       "      <td>3.9</td>\n",
       "      <td>9.1</td>\n",
       "      <td>9.6</td>\n",
       "      <td>11.5</td>\n",
       "    </tr>\n",
       "    <tr>\n",
       "      <th>4</th>\n",
       "      <td>Production, transportation, and material movin...</td>\n",
       "      <td>4.6</td>\n",
       "      <td>13.7</td>\n",
       "      <td>4.4</td>\n",
       "      <td>12.6</td>\n",
       "      <td>5.4</td>\n",
       "      <td>16.8</td>\n",
       "    </tr>\n",
       "  </tbody>\n",
       "</table>\n",
       "</div>"
      ],
      "text/plain": [
       "                                          Occupation  UR Total 2019  \\\n",
       "0  Management, professional, and related occupations            2.4   \n",
       "1                                Service occupations            4.5   \n",
       "2                       Sales and office occupations            3.6   \n",
       "3  Natural resources, construction, and maintenan...            4.2   \n",
       "4  Production, transportation, and material movin...            4.6   \n",
       "\n",
       "   UR Total 2020  UR of Men 2019  UR of Men 2020  UR of Women 2019   \\\n",
       "0            6.6             1.8             5.5                3.0   \n",
       "1           16.2             4.6            15.7                4.4   \n",
       "2           10.3             3.1             9.4                4.0   \n",
       "3            9.2             3.9             9.1                9.6   \n",
       "4           13.7             4.4            12.6                5.4   \n",
       "\n",
       "   UR of Women 2020  \n",
       "0               7.6  \n",
       "1              16.6  \n",
       "2              10.9  \n",
       "3              11.5  \n",
       "4              16.8  "
      ]
     },
     "execution_count": 37,
     "metadata": {},
     "output_type": "execute_result"
    }
   ],
   "source": [
    "import pandas as pd\n",
    "import seaborn as sns\n",
    "import matplotlib.pyplot as plt\n",
    "import numpy as np\n",
    "\n",
    "df = pd.read_csv('Gender v Occupation July - Sheet1.csv')\n",
    "df.head()"
   ]
  },
  {
   "cell_type": "code",
   "execution_count": 38,
   "metadata": {},
   "outputs": [
    {
     "data": {
      "text/plain": [
       "[None, None, None, None, None, None, None, None, None, None]"
      ]
     },
     "execution_count": 38,
     "metadata": {},
     "output_type": "execute_result"
    },
    {
     "data": {
      "image/png": "[encoded data removed]",
      "text/plain": [
       "<Figure size 432x288 with 1 Axes>"
      ]
     },
     "metadata": {
      "needs_background": "light"
     },
     "output_type": "display_data"
    }
   ],
   "source": [
    "men_2019 = df[\"UR of Men 2019\"]\n",
    "men_2020 = df[\"UR of Men 2020\"]\n",
    "women_2019 = df[\"UR of Women 2019 \"]\n",
    "women_2020 = df[\"UR of Women 2020\"]\n",
    "\n",
    "men_diff = []\n",
    "women_diff = []\n",
    "\n",
    "for x in range(len(men_2019)):\n",
    "    men_diff.append(men_2020[x]-men_2019[x])\n",
    "    women_diff.append(women_2020[x]-women_2019[x])\n",
    "    \n",
    "index = [\"Management, professional, and related occupations\", \"Service occupations\",\n",
    "         \"Sales and office occupations\", \"Natural resources, construction, and maintenance occupations\",\n",
    "        \"Production, transportation, and material moving occupations\"]\n",
    "\n",
    "df = pd.DataFrame({'Difference in Men UR 2019-2020': men_diff,\n",
    "                   'Difference in Women UR 2019-2020': women_diff}, index=index)\n",
    "\n",
    "ax = df.plot.bar(rot=0, color = [\"blue\", \"pink\"])\n",
    "plt.setp(ax.get_xticklabels(), rotation=30, horizontalalignment='right', fontsize='x-small')"
   ]
  },
  {
   "cell_type": "code",
   "execution_count": null,
   "metadata": {},
   "outputs": [],
   "source": []
  }
 ],
 "metadata": {
  "kernelspec": {
   "display_name": "Python 3",
   "language": "python",
   "name": "python3"
  },
  "language_info": {
   "codemirror_mode": {
    "name": "ipython",
    "version": 3
   },
   "file_extension": ".py",
   "mimetype": "text/x-python",
   "name": "python",
   "nbconvert_exporter": "python",
   "pygments_lexer": "ipython3",
   "version": "3.7.7"
  }
 },
 "nbformat": 4,
 "nbformat_minor": 4
}
